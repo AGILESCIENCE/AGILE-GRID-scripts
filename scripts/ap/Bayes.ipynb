{
 "cells": [
  {
   "cell_type": "code",
   "execution_count": 1,
   "metadata": {},
   "outputs": [],
   "source": [
    "%matplotlib widget\n",
    "from BayesianBlocks import BayesianBlocks"
   ]
  },
  {
   "cell_type": "code",
   "execution_count": null,
   "metadata": {},
   "outputs": [],
   "source": [
    "#header = [\"tstart\", \"tstop\", \"exp\", \"cts\", \"normAB11\", \"normAB12\", \"normAB13\", \"normAB14\", \"normAB21\", \"normAB22\", \"normAB23\", \"normAB24\", \"normAB11aa\", \"normAB21aa\", \"ratediffR1\", \"ratediffR2\", \"ratediffR3\", \"ratediffR4\", \"ratediffR1AA\", \"rate\", \"rate_error\", \"flux_ratediffR4\", \"flux_ratediffR4_error\", \"Sa\", \"flux_rate\", \"flux_rate_error\", \"cts_expBKGR4\", \"Slm\", \"SignUL\", \"N_sourceUL\", \"rateUL\", \"fluxUL\", \"SignSens3\", \"N_sourceSens3\", \"rateSens3\", \"fluxSens3\", \"SignSens4\", \"N_sourceSens4\", \"rateSens4\", \"fluxSens4\", \"SignSens5\", \"N_sourceSens5\", \"rateSens5\", \"fluxSens5\", \"fluxscalefactor\", \"ratew_meanR1\", \"ratew_meanR2\", \"ratew_meanR3\", \"ratew_meanR4\", \"ratew_meanR1aa\"]\n"
   ]
  },
  {
   "cell_type": "code",
   "execution_count": null,
   "metadata": {},
   "outputs": [],
   "source": []
  },
  {
   "cell_type": "code",
   "execution_count": 2,
   "metadata": {},
   "outputs": [],
   "source": [
    "bb = BayesianBlocks()"
   ]
  },
  {
   "cell_type": "code",
   "execution_count": 9,
   "metadata": {},
   "outputs": [
    {
     "output_type": "stream",
     "name": "stdout",
     "text": [
      "0      1\n1      0\n2      2\n3      7\n4      5\n      ..\n114    8\n115    9\n116    7\n117    6\n118    8\nName: cts, Length: 119, dtype: int64\n0      1.004505\n1      0.805577\n2      2.000000\n3      7.000000\n4      5.000000\n         ...   \n114    8.000000\n115    9.000000\n116    7.000000\n117    6.000000\n118    8.000000\nLength: 119, dtype: float64\n"
     ]
    },
    {
     "output_type": "display_data",
     "data": {
      "text/plain": "Canvas(toolbar=Toolbar(toolitems=[('Home', 'Reset original view', 'home', 'home'), ('Back', 'Back to previous …",
      "application/vnd.jupyter.widget-view+json": {
       "version_major": 2,
       "version_minor": 0,
       "model_id": "f99927f4736347668b1ebb7455a8eab1"
      }
     },
     "metadata": {}
    },
    {
     "output_type": "stream",
     "name": "stdout",
     "text": [
      "2\n",
      "3\n",
      "4\n",
      "5\n",
      "6\n",
      "7\n",
      "8\n",
      "9\n",
      "10\n",
      "11\n",
      "12\n",
      "13\n",
      "14\n",
      "15\n",
      "16\n",
      "17\n",
      "18\n",
      "19\n",
      "20\n",
      "21\n",
      "22\n",
      "23\n",
      "24\n",
      "25\n",
      "26\n",
      "27\n",
      "28\n",
      "29\n",
      "30\n",
      "31\n",
      "32\n",
      "33\n",
      "34\n",
      "35\n",
      "36\n",
      "37\n",
      "38\n",
      "39\n",
      "40\n",
      "41\n",
      "42\n",
      "43\n",
      "44\n",
      "45\n",
      "46\n",
      "47\n",
      "48\n",
      "49\n",
      "50\n",
      "fine\n"
     ]
    }
   ],
   "source": [
    "bb.main(\"/home/antonio/Desktop/repos/AGILE-GRID-scripts/scripts/ap/datasets/LC_3C454.3/E1dq1_21600s_emin100_emax10000_r4.ap.ap3\", 3, 8000, time_format=\"TT\")"
   ]
  },
  {
   "cell_type": "code",
   "execution_count": 8,
   "metadata": {},
   "outputs": [
    {
     "output_type": "display_data",
     "data": {
      "text/plain": "Canvas(toolbar=Toolbar(toolitems=[('Home', 'Reset original view', 'home', 'home'), ('Back', 'Back to previous …",
      "application/vnd.jupyter.widget-view+json": {
       "version_major": 2,
       "version_minor": 0,
       "model_id": "4180c3f75a124aaa8db1ce593d0557ec"
      }
     },
     "metadata": {}
    },
    {
     "output_type": "stream",
     "name": "stdout",
     "text": [
      "91\n91\n"
     ]
    }
   ],
   "source": [
    "bb.main(\"/home/antonio/Desktop/task_ap3/AGILE4.ap4\", 2, 200, time_format=\"TT\")"
   ]
  },
  {
   "cell_type": "code",
   "execution_count": null,
   "metadata": {},
   "outputs": [],
   "source": []
  }
 ],
 "metadata": {
  "kernelspec": {
   "display_name": "Python 3",
   "language": "python",
   "name": "python3"
  },
  "language_info": {
   "codemirror_mode": {
    "name": "ipython",
    "version": 3
   },
   "file_extension": ".py",
   "mimetype": "text/x-python",
   "name": "python",
   "nbconvert_exporter": "python",
   "pygments_lexer": "ipython3",
   "version": "3.7.6-final"
  }
 },
 "nbformat": 4,
 "nbformat_minor": 4
}